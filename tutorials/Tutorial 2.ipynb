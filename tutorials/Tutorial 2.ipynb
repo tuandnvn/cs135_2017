{
 "cells": [
  {
   "cell_type": "markdown",
   "metadata": {},
   "source": [
    "1. Usage of the provided book codes:\n",
    "\n",
    "See:\n",
    "\n",
    "http://www.computational-semantics.eu/FSynF.hs\n",
    "\n",
    "http://www.computational-semantics.eu/Model.hs\n",
    "\n",
    "http://www.computational-semantics.eu/MCWPL.hs\n",
    "\n",
    "http://www.computational-semantics.eu/TCOM.hs\n",
    "\n",
    "Answer the following questions:\n",
    "\n",
    "- In FSynF, looking at the definition of \"data NP\", you can see the author uses one constructor for each person name. Is there any advantage of disadvantage? Hint: compare this with your approach in HW2.\n",
    "- Looking at the definition of \"data Formula a\", is there any different in semantics of different instances of \"a\"? Similarly, what is the semantics of different instances of \"a\" and \"b\" in this Tree definition (notice that it is not the definition in Data.Tree):\n",
    "\n",
    "$data\\ Tree\\ a\\ b = Leaf\\ a\\ |\\ Branches\\ b\\ [Tree\\ a\\ b]$\n",
    "- Compare between two model checking approaches in MCWPL and TCOM. What are the advantages and disadvantages of each? "
   ]
  },
  {
   "cell_type": "markdown",
   "metadata": {},
   "source": [
    "2. Usage of State and StateT Monad\n",
    "\n",
    "Let's do the following problem:\n",
    "\n",
    "A block locates at position (0,0) on a gridboard. You move it through a sequence of commands (left, left, up, up, right, right). Find its final position?"
   ]
  },
  {
   "cell_type": "code",
   "execution_count": 22,
   "metadata": {
    "collapsed": false
   },
   "outputs": [],
   "source": [
    "import Control.Monad\n",
    "import Control.Monad.Trans.State\n",
    "\n",
    "-- Insated of using constructor for StateT\n",
    "-- You create states through function \"state\"\n",
    "-- Inside, you wrap a function that inputs a state_value\n",
    "-- and outputs (result, state_value)\n",
    "-- In this example, we just ignore the result, and only\n",
    "-- change state_value, which is the location of the block.\n",
    "\n",
    "right, left, up, down :: Monad m => StateT (Int, Int) m ()\n",
    "right = state (\\(x,y) -> ((), (x+1,y))) \n",
    "left = state (\\(x,y) -> ((), (x-1,y)))\n",
    "up = state (\\(x,y) -> ((), (x,y + 1)))\n",
    "down = state (\\(x,y) -> ((), (x,y - 1)))\n",
    "\n",
    "-- do notation allows combining multiple states\n",
    "commands = do { left; left; up; up; right; right } "
   ]
  },
  {
   "cell_type": "code",
   "execution_count": 23,
   "metadata": {
    "collapsed": false
   },
   "outputs": [
    {
     "data": {
      "text/plain": [
       "(0,2)"
      ]
     },
     "metadata": {},
     "output_type": "display_data"
    }
   ],
   "source": [
    "execState commands (0,0)"
   ]
  },
  {
   "cell_type": "markdown",
   "metadata": {},
   "source": [
    "Let's the sequence of commands to be something like (5 left, 2 right, 3 up). Give the final position"
   ]
  },
  {
   "cell_type": "code",
   "execution_count": 24,
   "metadata": {
    "collapsed": false
   },
   "outputs": [],
   "source": [
    "commands = do { replicateM_ 5 left; replicateM_ 2 right; replicateM_ 3 up } "
   ]
  },
  {
   "cell_type": "code",
   "execution_count": 25,
   "metadata": {
    "collapsed": false
   },
   "outputs": [
    {
     "data": {
      "text/plain": [
       "(-3,3)"
      ]
     },
     "metadata": {},
     "output_type": "display_data"
    }
   ],
   "source": [
    "execState commands (0,0)"
   ]
  },
  {
   "cell_type": "markdown",
   "metadata": {},
   "source": [
    "Let's print out all intermediate positions"
   ]
  },
  {
   "cell_type": "code",
   "execution_count": 26,
   "metadata": {
    "collapsed": false
   },
   "outputs": [],
   "source": [
    "import Control.Monad.IO.Class\n",
    "\n",
    "-- A generic function to move with translocation of (a,b)\n",
    "move :: (Int, Int) -> StateT (Int, Int) IO ()\n",
    "\n",
    "move = \\(a,b) -> do\n",
    "   (x, y) <- get\n",
    "   liftIO $ print (x,y) -- Notice the requirement of liftIO \n",
    "   put (x + a, y + b)\n",
    "   return ()\n",
    "   "
   ]
  },
  {
   "cell_type": "code",
   "execution_count": 27,
   "metadata": {
    "collapsed": false
   },
   "outputs": [],
   "source": [
    "rightP = move (1,0) \n",
    "leftP = move (-1,0) \n",
    "upP = move (0,1) \n",
    "downP = move (0,-1) "
   ]
  },
  {
   "cell_type": "code",
   "execution_count": 28,
   "metadata": {
    "collapsed": true
   },
   "outputs": [],
   "source": [
    "-- Same commands \n",
    "commands = do { replicateM_ 5 leftP; replicateM_ 2 rightP; replicateM_ 3 upP }"
   ]
  },
  {
   "cell_type": "code",
   "execution_count": 30,
   "metadata": {
    "collapsed": false
   },
   "outputs": [
    {
     "data": {
      "text/plain": [
       "(0,0)\n",
       "(-1,0)\n",
       "(-2,0)\n",
       "(-3,0)\n",
       "(-4,0)\n",
       "(-5,0)\n",
       "(-4,0)\n",
       "(-3,0)\n",
       "(-3,1)\n",
       "(-3,2)\n",
       "(-3,3)"
      ]
     },
     "metadata": {},
     "output_type": "display_data"
    }
   ],
   "source": [
    "execStateT commands (0,0) -- Notice the use of execStateT instead of execState"
   ]
  },
  {
   "cell_type": "markdown",
   "metadata": {},
   "source": [
    "Answer the following questions:\n",
    "- Find out why do we need function liftIO.\n",
    "- Find out why do you have two different functions \"execState\" and \"execStateT\"?\n",
    "- Think of a situation, when you need to add an independent state to your system, like when you want to change the color of your block among \"red\", \"green\" and \"blue\". Now how do you change your code so that you can receive a list of commands like (right, right, up, up, <b>blue</b>, up, <b>red</b>) and print out the new position and current color? Hint: you shouldn't change your code in the previous implementation of left, right, up, down. "
   ]
  },
  {
   "cell_type": "code",
   "execution_count": null,
   "metadata": {
    "collapsed": true
   },
   "outputs": [],
   "source": []
  }
 ],
 "metadata": {
  "kernelspec": {
   "display_name": "Haskell",
   "language": "haskell",
   "name": "haskell"
  },
  "language_info": {
   "codemirror_mode": "ihaskell",
   "file_extension": ".hs",
   "name": "haskell",
   "version": "8.0.2"
  }
 },
 "nbformat": 4,
 "nbformat_minor": 2
}
