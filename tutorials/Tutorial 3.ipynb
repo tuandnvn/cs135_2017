{
 "cells": [
  {
   "cell_type": "markdown",
   "metadata": {},
   "source": [
    "## Continuation Monad\n",
    "\n",
    "Following from Tutorial 2.\n",
    "\n",
    "You are in the Block World where you can move your blocks around. Now let's assume that you can also receive interactive signals from another player.\n",
    "\n"
   ]
  },
  {
   "cell_type": "code",
   "execution_count": 35,
   "metadata": {
    "collapsed": false
   },
   "outputs": [],
   "source": [
    "import Control.Monad.Cont\n",
    "import System.IO\n",
    "\n",
    "calculateLength :: [a] -> Cont r Int\n",
    "calculateLength l = return (length l)\n",
    "\n",
    "main = do\n",
    "  runCont (calculateLength \"123\") print\n",
    "\n",
    "whatsYourName :: String -> String\n",
    "\n",
    "whatsYourName name = \n",
    " (`runCont` id) $ do \n",
    "   response <- callCC $ \\exit -> do\n",
    "     validateName name exit\n",
    "     return $ \"Welcome, \" ++ name ++ \"!\"\n",
    "   return response\n",
    "   \n",
    "fun escape = do escape \"ahoy\" \n",
    "                return \"die die\"\n",
    "-- m = print $ runCont (callCC fun) id\n",
    "m = do\n",
    "  let q = runCont (callCC fun) id\n",
    "  print q"
   ]
  },
  {
   "cell_type": "markdown",
   "metadata": {},
   "source": [
    "## Continuation Passing Style in Semantics\n",
    "\n",
    "Using this code\n",
    "\n",
    "http://www.computational-semantics.eu/CPSS.hs"
   ]
  },
  {
   "cell_type": "code",
   "execution_count": 37,
   "metadata": {
    "collapsed": false
   },
   "outputs": [
    {
     "data": {
      "text/html": [
       "<style>/* Styles used for the Hoogle display in the pager */\n",
       ".hoogle-doc {\n",
       "display: block;\n",
       "padding-bottom: 1.3em;\n",
       "padding-left: 0.4em;\n",
       "}\n",
       ".hoogle-code {\n",
       "display: block;\n",
       "font-family: monospace;\n",
       "white-space: pre;\n",
       "}\n",
       ".hoogle-text {\n",
       "display: block;\n",
       "}\n",
       ".hoogle-name {\n",
       "color: green;\n",
       "font-weight: bold;\n",
       "}\n",
       ".hoogle-head {\n",
       "font-weight: bold;\n",
       "}\n",
       ".hoogle-sub {\n",
       "display: block;\n",
       "margin-left: 0.4em;\n",
       "}\n",
       ".hoogle-package {\n",
       "font-weight: bold;\n",
       "font-style: italic;\n",
       "}\n",
       ".hoogle-module {\n",
       "font-weight: bold;\n",
       "}\n",
       ".hoogle-class {\n",
       "font-weight: bold;\n",
       "}\n",
       ".get-type {\n",
       "color: green;\n",
       "font-weight: bold;\n",
       "font-family: monospace;\n",
       "display: block;\n",
       "white-space: pre-wrap;\n",
       "}\n",
       ".show-type {\n",
       "color: green;\n",
       "font-weight: bold;\n",
       "font-family: monospace;\n",
       "margin-left: 1em;\n",
       "}\n",
       ".mono {\n",
       "font-family: monospace;\n",
       "display: block;\n",
       "}\n",
       ".err-msg {\n",
       "color: red;\n",
       "font-style: italic;\n",
       "font-family: monospace;\n",
       "white-space: pre;\n",
       "display: block;\n",
       "}\n",
       "#unshowable {\n",
       "color: red;\n",
       "font-weight: bold;\n",
       "}\n",
       ".err-msg.in.collapse {\n",
       "padding-top: 0.7em;\n",
       "}\n",
       ".highlight-code {\n",
       "white-space: pre;\n",
       "font-family: monospace;\n",
       "}\n",
       ".suggestion-warning { \n",
       "font-weight: bold;\n",
       "color: rgb(200, 130, 0);\n",
       "}\n",
       ".suggestion-error { \n",
       "font-weight: bold;\n",
       "color: red;\n",
       "}\n",
       ".suggestion-name {\n",
       "font-weight: bold;\n",
       "}\n",
       "</style><span class='get-type'>\\f -> map f \"text\" == [1,2,3] :: forall b. (Num b, Eq b) => (Char -> b) -> Bool</span>"
      ],
      "text/plain": [
       "\\f -> map f \"text\" == [1,2,3] :: forall b. (Num b, Eq b) => (Char -> b) -> Bool"
      ]
     },
     "metadata": {},
     "output_type": "display_data"
    }
   ],
   "source": [
    ":t \\f -> map f \"text\" == [1,2,3]"
   ]
  },
  {
   "cell_type": "markdown",
   "metadata": {
    "collapsed": true
   },
   "source": [
    "# Some important flags of GHCI\n",
    "\n",
    "### {-# LANGUAGE MultiParamTypeClasses #-}\n",
    "\n",
    "Single param type class:\n"
   ]
  },
  {
   "cell_type": "code",
   "execution_count": 11,
   "metadata": {
    "collapsed": false
   },
   "outputs": [],
   "source": [
    "data Argument = Argument { ttype :: String, value :: String } \n",
    "data Predicate = Predicate { lemma :: String, arguments :: [Argument]}\n",
    "class QWho a where\n",
    "\tqWho ::  (Argument -> a -> Predicate) -> a ->  [String]"
   ]
  },
  {
   "cell_type": "markdown",
   "metadata": {},
   "source": [
    "Multi param type class:"
   ]
  },
  {
   "cell_type": "code",
   "execution_count": 10,
   "metadata": {
    "collapsed": false
   },
   "outputs": [],
   "source": [
    "{-# LANGUAGE MultiParamTypeClasses #-}\n",
    "class QWho a b where\n",
    "\tqWho ::  a -> b ->  [String]"
   ]
  },
  {
   "cell_type": "markdown",
   "metadata": {},
   "source": [
    "### {-# LANGUAGE FlexibleInstances #-}\n",
    "\n",
    "Why?\n",
    "\n",
    "The following instance declaration would fail, because Strict Instances would requires a and b are distinct type variables. (Argument -> Argument -> Predicate) is considered a nested type."
   ]
  },
  {
   "cell_type": "code",
   "execution_count": 15,
   "metadata": {
    "collapsed": false
   },
   "outputs": [],
   "source": [
    "{-# LANGUAGE FlexibleInstances #-}\n",
    "instance QWho (Argument -> Argument -> Predicate) Argument where\n",
    "   qWho verb arg = []"
   ]
  },
  {
   "cell_type": "markdown",
   "metadata": {},
   "source": [
    "### {-# LANGUAGE FunctionalDependencies #-}\n",
    "\n",
    "Why?\n",
    "\n",
    "Declaring \"QWho\" with multiple parameters is prolemmatic.\n",
    "\n",
    "qWho instances:\n",
    "\n",
    "(Argument -> Argument -> Predicate) -> Argument ->  [String]\n",
    "\n",
    "(Argument -> Predicate -> Predicate) -> Predicate ->  [String]\n",
    "\n",
    "QWho fly to_boston\n",
    "\n",
    "qWho:: a -> b ->  [String]\n",
    "\n",
    "fly :: \n",
    "\n",
    "   -- Argument -> Argument -> Predicate\n",
    "   \n",
    "   -- or\n",
    "   \n",
    "   -- Argument -> Predicate -> Predicate\n",
    "\n",
    "to_boston :: Predicate\n",
    "\n",
    "Now qWho would try to resolve the type of \"fly\" based on possible instances of qWho. However, both types fit.\n",
    "Notice that only the second type of qWho fit to_boston."
   ]
  },
  {
   "cell_type": "code",
   "execution_count": 12,
   "metadata": {
    "collapsed": true
   },
   "outputs": [],
   "source": [
    "class QWho a b | b -> a where\n",
    "\tqWho ::  a -> b ->  [String]"
   ]
  },
  {
   "cell_type": "markdown",
   "metadata": {},
   "source": [
    "Some terms need to know:\n",
    "\n",
    "- Ad-hoc polymorphism vs parametric polymorphism"
   ]
  },
  {
   "cell_type": "markdown",
   "metadata": {},
   "source": [
    "### {-# LANGUAGE ExistentialQuantification #-}"
   ]
  },
  {
   "cell_type": "code",
   "execution_count": null,
   "metadata": {
    "collapsed": true
   },
   "outputs": [],
   "source": []
  }
 ],
 "metadata": {
  "kernelspec": {
   "display_name": "Haskell",
   "language": "haskell",
   "name": "haskell"
  },
  "language_info": {
   "codemirror_mode": "ihaskell",
   "file_extension": ".hs",
   "name": "haskell",
   "version": "8.0.2"
  }
 },
 "nbformat": 4,
 "nbformat_minor": 2
}
